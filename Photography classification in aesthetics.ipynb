{
 "cells": [
  {
   "cell_type": "markdown",
   "metadata": {
    "collapsed": true
   },
   "source": [
    "## Introduction\n",
    "\n",
    "With the surge of digital device and smart phones, billions of photos are collected everyday. For people who cares about the beauty or the feeling of photos, they hope to be instructed when they are taking or modifying photos to enhance aesthetic values. Also, people love to share photos and watch others' photos in social networks (Facebook, Instagram, snapchat, etc) they hope to share and watch the high-quality photos and got mediocre photos filtered out. Therefore, a trained 'aesthetic evaluator' will give them a pre-judgement about the 'beauty' of the photos, help them create, select best photos.\n",
    "\n",
    "Traditionally, deciding whether a natural image is beautiful always involves rational justification. According to our observation, appealing images usually share some common features such as regular compositions, gorgeous colors, an outstanding theme, or even some hidden features that human beings don’t realize.\n",
    "\n",
    "To build a brief view about aesthetics, there are three examples photos about the mountain. Although different people may have vary criteria and subjective aesthetic standard, the left two photos have higher aesthetic values than the right one undoubtedly.\n",
    "<img src=\"https://www.dropbox.com/s/ygrq2ehg9vc29m9/3img.png?raw=1\">\n",
    "\n",
    "\n",
    "How to find methods which can help us separates brilliant imags from mediocre images which have lower aesthetic values? In our project, we would explore different methods to solve this challenging question by establishing the aesthetic criteria from machine view and build an aesthetic classifier based on supervised learning."
   ]
  },
  {
   "cell_type": "markdown",
   "metadata": {},
   "source": [
    "## Project content\n",
    "\n",
    "In this project, We will collect image dataset first, and then implement 3 feature extraction approaches, color histogram, convolutional neural network(CNN) with triple loss function and VGG pretrained network. All these featurets would be test on SVM classfier and compared with each other in the end.\n",
    "\n",
    "We will cover the following topics in this project:\n",
    "\n",
    "- [Data preparation](#Data-preparation)\n",
    "- [Image Color histogram](#Color-histogram)\n",
    "- [CNN with Triplet loss function](#CNN-with-Triplet-loss-function)\n",
    "- [VGG16 pretrained network](#Feature-Extraction-using-VGG16-pretrained-network)\n",
    "- [Summary](#Summary)"
   ]
  },
  {
   "cell_type": "code",
   "execution_count": 1,
   "metadata": {
    "collapsed": true
   },
   "outputs": [],
   "source": [
    "import mimetypes, httplib, time, sys, os\n",
    "import unittest\n",
    "import urllib2\n",
    "import cv2\n",
    "import os\n",
    "from bs4 import BeautifulSoup\n",
    "import numpy as np\n",
    "import matplotlib.pyplot as plt\n",
    "from PIL import Image\n",
    "%matplotlib inline"
   ]
  },
  {
   "cell_type": "markdown",
   "metadata": {},
   "source": [
    "## Data preparation\n",
    "\n",
    "One of the key factors contributing to our understanding of aesthetics of photographs is the dataset\n",
    "selection. The image quality and the rating system should be able to reflect the aesthetic value of\n",
    "a photo based on collective expertise.\n",
    "\n",
    "According to the criteria above, we chose the photos in Photo.net to train and test the algorithm. Photo.net is a great online photo sharing community with over 400,000 active photographers and they’re constantly doing peer-rating for each other’s works. \n",
    "\n",
    "To fetch the image data from photo.net, we have parsed the html page of photo.net, collected photos ids and scores information and downloaded image by id. In addition, the size of images in photo.net are different, we have croped and scaled images to have same size."
   ]
  },
  {
   "cell_type": "markdown",
   "metadata": {},
   "source": [
    "### Parse photo.net html page\n",
    "\n",
    "In photo.net http://photo.net/gallery/photocritique/filter, each finding photo request can match as many as 3000 photos and display 12 photos on each page. Therefore, we used loops to send different requests and collected image ids and scores on each page.\n",
    "\n",
    "<img src=\"https://www.dropbox.com/s/1nug4v1ftmftatb/photonet.png?raw=1\">"
   ]
  },
  {
   "cell_type": "code",
   "execution_count": 4,
   "metadata": {
    "collapsed": false
   },
   "outputs": [
    {
     "name": "stdout",
     "output_type": "stream",
     "text": [
      "number of different image ids obtained:  36692\n"
     ]
    }
   ],
   "source": [
    "def getPage(url):\n",
    "    \n",
    "    #Browser Information\n",
    "    user_agent = 'Mozilla/4.0 (compatible; MSIE 5.5; Windows NT)'\n",
    "    headers = { 'User-Agent' : user_agent }\n",
    "\n",
    "    request = urllib2.Request(url,headers = headers)\n",
    "\n",
    "    #Read response and open the url\n",
    "    response = urllib2.urlopen(request)\n",
    "\n",
    "    #Get web page HTML code and decode it\n",
    "    pageCode = response.read().decode('utf-8')\n",
    "\n",
    "    return pageCode\n",
    "\n",
    "def parse_page(html,ids,rates):\n",
    "    soup = BeautifulSoup(html,\"html.parser\")\n",
    "    photos = soup.find_all(\"div\", attrs = {'class':'trp_photo'})\n",
    "    for photo in photos:\n",
    "        id = photo.find('a')['href'].split('=')[1]\n",
    "        rate = str(photo.find('div',attrs={'class':'trp-details'}))\n",
    "        l = rate.find(\"<strong>Rating:</strong>\")\n",
    "        r = rate.find(\"<br>\",l)\n",
    "        rate = rate[l:r].split(' ')[-1]\n",
    "        if(len(rate)<2):\n",
    "            continue\n",
    "        if id in ids:\n",
    "            continue\n",
    "        ids.append(id)\n",
    "        rates.append(float(rate))\n",
    "    return (ids,rates)\n",
    "    pass\n",
    "\n",
    "ids = []\n",
    "rates = []\n",
    "for page_index in range(0,3000,12):\n",
    "    for category in ['Travel','Landscape']:\n",
    "        for period in ['90','365','365-1','365-2','365-3','365-4','365-5','5000']:\n",
    "            url = \"http://photo.net/gallery/photocritique/filter?period=\"+ period \n",
    "            url += \"&rank_by=avg&category=\" + category + \"&start_index=\" + str(page_index) \n",
    "            url += \"&store_prefs_p=1&shown_tab=1&page=Next\"\n",
    "            html = getPage(url)\n",
    "            [ids,rates] = parse_page(html,ids,rates)\n",
    "print \"number of different image ids obtained: \",len(ids)"
   ]
  },
  {
   "cell_type": "markdown",
   "metadata": {},
   "source": [
    "After crawling the images, we visualize the score distribution to have a brief understanding of data."
   ]
  },
  {
   "cell_type": "code",
   "execution_count": 6,
   "metadata": {
    "collapsed": false,
    "scrolled": true
   },
   "outputs": [
    {
     "data": {
      "image/png": "[encoded data removed]",
      "text/plain": [
       "<matplotlib.figure.Figure at 0x107e0fa50>"
      ]
     },
     "metadata": {},
     "output_type": "display_data"
    }
   ],
   "source": [
    "#score distribution visualization\n",
    "scores = rates\n",
    "rate = {}\n",
    "for score in scores:\n",
    "    score = int(score*10)\n",
    "    if score not in rate:\n",
    "        rate[score] = 0\n",
    "    rate[score] += 1\n",
    "sd = sorted(rate.items())\n",
    "X = []\n",
    "Y = []\n",
    "for a,b in sd:\n",
    "    X.append(a/10.0)\n",
    "    Y.append(b)\n",
    "plt.xlabel('Score')\n",
    "plt.ylabel('Count')\n",
    "plt.title('Score distribution of imgs by photo.net')\n",
    "plt.plot(X,Y)\n",
    "plt.savefig('ds_all.png')\n",
    "plt.show()"
   ]
  },
  {
   "cell_type": "markdown",
   "metadata": {},
   "source": [
    "### Download image data\n",
    "To better prepare the datasets used for training and classification, we only collected images from two tails. Specifically, we have ~ 12% negative examples from left side and another ~12% examples from right side. Therefore, we define images with rating score below 4.3 as “negative” image, and images with scores over 6.0 as ”positive” images. "
   ]
  },
  {
   "cell_type": "code",
   "execution_count": null,
   "metadata": {
    "collapsed": false
   },
   "outputs": [],
   "source": [
    "# download photos\n",
    "for i in range(len(ids)):\n",
    "    id = ids[i]\n",
    "    score = rates[i]\n",
    "    if (score<6.0 and score>4.3):\n",
    "        continue\n",
    "    url = 'http://gallery.photo.net/photo/'+id+'-md.jpg'\n",
    "    urllib.urlretrieve(url,\"dataset/\"+id+\"_\"+str(score)+\".jpeg\")"
   ]
  },
  {
   "cell_type": "markdown",
   "metadata": {},
   "source": [
    "### Canonicalizing Images and Extract labels from file names\n",
    "\n",
    "We observed different size in different images. Therefore we have cropped images into a square(only keep the center region) and down-sampling them into 96 x 96 pixels image. Also, we parsed the labels from filenames. "
   ]
  },
  {
   "cell_type": "code",
   "execution_count": 2,
   "metadata": {
    "collapsed": false
   },
   "outputs": [],
   "source": [
    "def crop_and_scale_image(im):\n",
    "    if im.mode is not 'RGB':\n",
    "        im = im.convert('RGB')\n",
    "    width,height = im.size\n",
    "    if width > height:\n",
    "        diff = width - height\n",
    "        box = diff/2, 0, width - (diff - diff/2), height\n",
    "    else:\n",
    "        diff = height - width\n",
    "        box = 0, diff/2, width, height - (diff - diff/2)\n",
    "    im = im.crop(box)\n",
    "    toSize = 96,96\n",
    "    im= im.resize(toSize, Image.ANTIALIAS)\n",
    "    return im\n",
    "\n",
    "def fnames_to_labels(fnames):\n",
    "    res = []\n",
    "    for fname in fnames:\n",
    "        score = float(fname.split('_')[1].split('.jpeg')[0])\n",
    "        if score > 5:\n",
    "            res.append(1)\n",
    "        else:\n",
    "            res.append(-1)\n",
    "    return np.asarray(res)"
   ]
  },
  {
   "cell_type": "markdown",
   "metadata": {},
   "source": [
    "### Train / Validate / Test splits\n",
    "\n",
    "Next we have loaded all the 9047 images (4503 pos and 4544 neg) and perform our usual data split. We splited these photos into three categories - 7547 for training, 1000 for validation, and and 500 for testing. "
   ]
  },
  {
   "cell_type": "code",
   "execution_count": 3,
   "metadata": {
    "collapsed": false
   },
   "outputs": [
    {
     "name": "stdout",
     "output_type": "stream",
     "text": [
      "4503 4544\n",
      "Train data size:  7547\n",
      "Validation data size:  1000\n",
      "Test data size:  500\n"
     ]
    }
   ],
   "source": [
    "import random\n",
    "\n",
    "dname = \"dataset/\"\n",
    "im_paths = [dname+fname for fname in os.listdir(dname) if fname.endswith(\".jpeg\")]\n",
    "im_paths = np.array(im_paths)\n",
    "random.shuffle(im_paths)\n",
    "im_labels = fnames_to_labels(im_paths)\n",
    "\n",
    "im_paths_pos = im_paths[im_labels>0]\n",
    "im_paths_neg = im_paths[im_labels<0]\n",
    "print len(im_paths_pos),len(im_paths_neg)\n",
    "fnames_te = np.concatenate((im_paths_pos[0:250], im_paths_neg[:250]))\n",
    "fnames_va = np.concatenate((im_paths_pos[250:750], im_paths_neg[250:750]))\n",
    "fnames_tr = np.concatenate((im_paths_pos[750:len(im_paths_neg)], im_paths_neg[750:]))\n",
    "print \"Train data size: \",len(fnames_tr)\n",
    "print \"Validation data size: \",len(fnames_va)\n",
    "print \"Test data size: \",len(fnames_te)"
   ]
  },
  {
   "cell_type": "markdown",
   "metadata": {},
   "source": [
    "## Color histogram\n",
    "\n",
    "Now we start to extract image features. As aesthetic value is affected by color of image. Color distribution can be represented and visualized using color histogram. Thus, in the first approach, we will explore to use color histogram as features for SVM classifier. The below figure shows the color histogram of an example image."
   ]
  },
  {
   "cell_type": "code",
   "execution_count": 10,
   "metadata": {
    "collapsed": false
   },
   "outputs": [
    {
     "data": {
      "image/png": "[encoded data removed]",
      "text/plain": [
       "<matplotlib.figure.Figure at 0x1278d8110>"
      ]
     },
     "metadata": {},
     "output_type": "display_data"
    }
   ],
   "source": [
    "def get_color_histogram(fname):\n",
    "    ans = []\n",
    "    img = cv2.imread(fname)\n",
    "    for channel in range(3):\n",
    "        try:\n",
    "            hist = cv2.calcHist([img],[channel],None,[256],[0,256])\n",
    "            ans.extend([i[0] for i in hist])\n",
    "        except:\n",
    "            ans.extend([0 for i in range(256)])\n",
    "#         plt.plot(hist)\n",
    "#     plt.show()\n",
    "    return ans\n",
    "\n",
    "hist = get_color_histogram('dataset/2572191_6.33.jpeg')"
   ]
  },
  {
   "cell_type": "markdown",
   "metadata": {},
   "source": [
    "### SVM classifier\n",
    "\n",
    "After extracting features from color histogram, We applied support vector machine(SVM) to train the classifier. The SVM is known for maximizing margin and can be worked with various kernel, therefore be selected for our binary classification algorithm. We obtained the image pixels and labels from crawled dataset and normalized the color histogram features."
   ]
  },
  {
   "cell_type": "code",
   "execution_count": 7,
   "metadata": {
    "collapsed": false
   },
   "outputs": [],
   "source": [
    "X_tr = [get_color_histogram(fname) for fname in fnames_tr]\n",
    "X_va = [get_color_histogram(fname) for fname in fnames_va]\n",
    "X_te = [get_color_histogram(fname) for fname in fnames_te]\n",
    "y_tr = fnames_to_labels(fnames_tr) \n",
    "y_va = fnames_to_labels(fnames_va) \n",
    "y_te = fnames_to_labels(fnames_te) "
   ]
  },
  {
   "cell_type": "code",
   "execution_count": 25,
   "metadata": {
    "collapsed": false
   },
   "outputs": [],
   "source": [
    "def normalize(X,maxX,minX):\n",
    "    X2 = []\n",
    "    for i in range(len(X)):\n",
    "        line = []\n",
    "        for j in range(len(X[i])):\n",
    "            k = (X[i][j]-minX[j])/(maxX[j]-minX[j])\n",
    "            line.append(k)\n",
    "        X2.append(line)\n",
    "    return np.asarray(X2)\n",
    "maxX = np.max(X_tr, 0)\n",
    "minX = np.min(X_tr, 0)\n",
    "X_tr_norm = normalize(X_tr,maxX,minX)\n",
    "X_va_norm = normalize(X_va,maxX,minX)\n",
    "X_te_norm = normalize(X_te,maxX,minX)"
   ]
  },
  {
   "cell_type": "markdown",
   "metadata": {},
   "source": [
    "We used grid search to find the best SVM parameters in validation dataset, and then use test data with optimzied parameters to get final classifacation accuracy. We also calculated the recalls (*True positive and True negative rates*). True positive is the fraction of the postive examples which are classifed as positive over all positive examples."
   ]
  },
  {
   "cell_type": "code",
   "execution_count": 27,
   "metadata": {
    "collapsed": false
   },
   "outputs": [],
   "source": [
    "from sklearn import svm\n",
    "\n",
    "def svm_train(X, y, C, gamma):\n",
    "    rbf_svc = svm.SVC(kernel='rbf', gamma=gamma, C=C).fit(X, y)\n",
    "    return rbf_svc\n",
    "    pass\n",
    "\n",
    "def svm_predict(svc, X):\n",
    "    return svc.predict(X)\n",
    "\n",
    "C_range = np.logspace(-2, 7, 10)\n",
    "gamma_range = np.logspace(-8, 1, 10)\n",
    "\n",
    "best = 0\n",
    "best_C = 0\n",
    "best_gamma = 0\n",
    "\n",
    "# validation\n",
    "for C in C_range:\n",
    "    for gamma in gamma_range:\n",
    "        svc = svm_train(X_tr_norm, y_tr, C, gamma)\n",
    "        y_p = svm_predict(svc, X_va_norm)\n",
    "        accuracy = np.mean(y_p==y_va)\n",
    "        if accuracy > best:\n",
    "            best = accuracy\n",
    "            best_C = C\n",
    "            best_gamma = gamma\n",
    "        recallT = 0.0\n",
    "        recallF = 0.0\n",
    "        for i in range(len(y_va)):\n",
    "            if (y_p[i]==y_va[i] and y_p[i]>0):\n",
    "                recallT += 1\n",
    "            if (y_p[i]==y_va[i] and y_p[i]<0):\n",
    "                recallF += 1\n",
    "        print \"Validation C: {} gamma:{} accuracy : {} Recall: {},{}\".format( C,gamma,accuracy,recallT/(y_va>0).sum(),recallF/(y_va<=0).sum())"
   ]
  },
  {
   "cell_type": "markdown",
   "metadata": {},
   "source": [
    "After performed validations, we find the best parameters are: C = 0.1 and gama = 0.01, which are used for final training and testing."
   ]
  },
  {
   "cell_type": "code",
   "execution_count": 28,
   "metadata": {
    "collapsed": false
   },
   "outputs": [
    {
     "name": "stdout",
     "output_type": "stream",
     "text": [
      "Test accuracy: 0.654\n",
      "Recall:  0.672 0.636\n"
     ]
    }
   ],
   "source": [
    "#  test\n",
    "C = 0.1\n",
    "gamma = 0.01\n",
    "svc = svm_train(X_tr_norm, y_tr, C, gamma)\n",
    "y_pt = svm_predict(svc, X_te_norm)\n",
    "print \"Test accuracy: {}\".format(np.mean(y_pt==y_te))\n",
    "recallT = 0.0\n",
    "recallF = 0.0\n",
    "for i in range(len(y_te)):\n",
    "    if (y_pt[i]==y_te[i] and y_pt[i]>0):\n",
    "        recallT += 1\n",
    "    if (y_pt[i]==y_te[i] and y_pt[i]<0):\n",
    "        recallF += 1\n",
    "print 'Recall: ',recallT/(y_te>0).sum(),recallF/(y_te<=0).sum()"
   ]
  },
  {
   "cell_type": "markdown",
   "metadata": {},
   "source": [
    "### Color histogram result analysis\n",
    "\n",
    "We obtained about 65.4% test accuracy with SVM and RBF kernel. The classification result is not good enough. For aesthetic evaluation, the feature is too abstract and selection is very hard to obtain through traditional computer vision techniques. \n",
    "\n",
    "But this experiment of color histogram gives us insights that it's possible to find a way to extract image features to represent the image aesthetic values. We would need to try more intelligent models to address this problem. In recent researches, convolutional neural network (CNN) performs very well in image tasks because of its deep network and learn capacity. In the next part, we will try to apply CNN to approach this challenging topic."
   ]
  },
  {
   "cell_type": "markdown",
   "metadata": {},
   "source": [
    "## CNN with Triplet loss function\n",
    "\n",
    "Inspired from <a href = 'https://devblogs.nvidia.com/parallelforall/understanding-aesthetics-deep-learning/'>Understanding Aesthetics with Deep Learning</a>, a journal form NVIDIA, the challenging problem can be approached by training the Convolution Neural Network of the defined the triplet loss:\n",
    "\n",
    "Triplet loss =  $max(0, c + Dist( \\phi(I_1), \\phi(I_2)) - Dist(\\phi(I_1), \\phi(I_3) )$\n",
    "\n",
    "The objective of this loss function is let CNN learn the similarity between high-quality images, and learn the difference between high-quality and mediocre images. Therefore, by training the network, we hope to learn a feature representation $\\phi(.)$ that the feature distance between two high-quality images is smaller than the feature distance between one high-quality image and one low-quality image. Also, by introducing the margin $c$, we can train the network such that the distance between $\\phi(I_1)$ and $\\phi(I_3)$ is greater by c than the distance between $\\phi(I_1)$ and $\\phi(I_2)$.\n",
    "\n",
    "It is noticeable we are not going to learn the classifier by the triplet loss function and deep network, we are learning features representation method $\\phi(.)$. Once we learned $\\phi(.)$, we will use SVM to train the classifier using the feature representation of images.\n",
    "\n",
    "<img src=\"https://www.dropbox.com/s/flm2ng5hvfykek5/triLoss.jpg?raw=1\", height = 800, width = 600>\n",
    "\n",
    "\n",
    "### Data Processing\n",
    "The image dataset, we have split them into 5652 images in training dataset, 1000 images in validation dataset, and 500 images in test dataset. The training dataset have around 2:1 regarding positive images and negative images and validation/test have 1:1 positive images and negative images. \n",
    "\n",
    "### Design Architecture\n",
    "We have chosen using tensorflow to implement the Convolutional Neural Network and train feature representation method $\\phi(.)$. The CNN Net architecture was reference and simplified from the reference paper[1], page 3273. Specifically, we have implemented the network with following parameters.\n",
    "<img src=\"https://www.dropbox.com/s/2h2n33eigsqhsh1/parameterCNN.jpg?raw=1\", height = 300, width = 300>\n",
    "\n",
    "The output of this network is a feature vector with dimension 1024 x 1. The vector is used to calculate the triplet loss and used in Gradient Descent. Also, after the network got trained, this layer is the feature representation of the original image.\n",
    "\n",
    "For training classifier, we have used SVM classifier from sklearn.\n",
    "\n",
    "### Implementation with tensorflow\n",
    "\n",
    "S1: import necessary packages, specify the dataset location and destination file for logs"
   ]
  },
  {
   "cell_type": "code",
   "execution_count": 37,
   "metadata": {
    "collapsed": true
   },
   "outputs": [],
   "source": [
    "import tensorflow as tf \n",
    "import numpy as np      \n",
    "from PIL import Image   \n",
    "import random           \n",
    "import time             \n",
    "from sklearn import svm \n",
    "import logging          \n",
    "\n",
    "dataset = './dataset4'\n",
    "logging.basicConfig(filename='cnnlog017.log',level=logging.DEBUG)"
   ]
  },
  {
   "cell_type": "markdown",
   "metadata": {},
   "source": [
    "S2: read all image infomation from the csv file, and divide images into positive images and negative images"
   ]
  },
  {
   "cell_type": "code",
   "execution_count": 38,
   "metadata": {
    "collapsed": false
   },
   "outputs": [
    {
     "name": "stdout",
     "output_type": "stream",
     "text": [
      "Train Set Positive Images:  3753\n",
      "Train Set Negative Images:  1899\n",
      "Validation Set Positive Images:  500\n",
      "Validation Set Negative Images:  500\n",
      "Test Set Positive Images:  250\n",
      "Test Set Negative Images:  250\n"
     ]
    }
   ],
   "source": [
    "# Reading train set                                             \n",
    "posImg_ids_Tr = []                                              \n",
    "posImg_scores_Tr = []                                           \n",
    "negImg_ids_Tr = []                                              \n",
    "negImg_scores_Tr = []                                           \n",
    "with open( dataset + '/ratingsInfo/train.csv', 'r') as f:       \n",
    "    f.readline()                                                \n",
    "    for line in f.readlines():                                  \n",
    "        img_id,img_score,img_label = line.strip().split(',')    \n",
    "        if float(img_label) > 0:                                \n",
    "            posImg_ids_Tr.append(img_id)                        \n",
    "            posImg_scores_Tr.append(img_score)                  \n",
    "        else:                                                   \n",
    "            negImg_ids_Tr.append(img_id)                        \n",
    "            negImg_scores_Tr.append(img_score)                  \n",
    "print \"Train Set Positive Images: \", len(posImg_ids_Tr)\n",
    "print \"Train Set Negative Images: \",len(negImg_ids_Tr)                                                   \n",
    "# Reading validation set                                        \n",
    "posImg_ids_Va = []                                              \n",
    "posImg_scores_Va = []                                           \n",
    "negImg_ids_Va = []                                              \n",
    "negImg_scores_Va = []                                           \n",
    "with open(dataset + '/ratingsInfo/validation.csv', 'r') as f:   \n",
    "    f.readline()                                                \n",
    "    for line in f.readlines():                                  \n",
    "        img_id,img_score,img_label = line.strip().split(',')    \n",
    "        if float(img_label) > 0:                                \n",
    "            posImg_ids_Va.append(img_id)                        \n",
    "            posImg_scores_Va.append(img_score)                  \n",
    "        else:                                                   \n",
    "            negImg_ids_Va.append(img_id)                        \n",
    "            negImg_scores_Va.append(img_score)                  \n",
    "            \n",
    "print \"Validation Set Positive Images: \",len(posImg_ids_Va)\n",
    "print \"Validation Set Negative Images: \", len(negImg_ids_Va)\n",
    "\n",
    "# Reading the test set                                          \n",
    "posImg_ids_Te = []                                              \n",
    "negImg_ids_Te = []                                              \n",
    "posImg_scores_Te = []                                           \n",
    "negImg_scores_Te = []                                           \n",
    "with open(dataset + '/ratingsInfo/test.csv', 'r') as f:         \n",
    "    f.readline()                                                \n",
    "    for line in f.readlines():                                  \n",
    "        img_id,img_score,img_label = line.strip().split(',')    \n",
    "        if float(img_label) > 0:                                \n",
    "            posImg_ids_Te.append(img_id)                        \n",
    "            posImg_scores_Te.append(img_score)                  \n",
    "        else:                                                   \n",
    "            negImg_ids_Te.append(img_id)                        \n",
    "            negImg_scores_Te.append(img_score)    \n",
    "\n",
    "print \"Test Set Positive Images: \", len(posImg_ids_Te)\n",
    "print \"Test Set Negative Images: \", len(negImg_ids_Te)\n",
    "\n",
    "\n"
   ]
  },
  {
   "cell_type": "markdown",
   "metadata": {},
   "source": [
    "S3: Read and store positive images, negative images separately into np.arrays. Note Anchor images are also from positive images dataset. You can think Anchor images as $I_1$ images above. There are more positive examples because half of them are functioned as anchor images."
   ]
  },
  {
   "cell_type": "code",
   "execution_count": 39,
   "metadata": {
    "collapsed": false
   },
   "outputs": [
    {
     "name": "stdout",
     "output_type": "stream",
     "text": [
      "Anchor (Positive) Training Images size  (3753, 96, 96, 3)\n",
      "Positive Training Images size  (3753, 96, 96, 3)\n",
      "Negative Training Images size  (1899, 96, 96, 3)\n",
      "Positive Validation Images size  (500, 96, 96, 3)\n",
      "Negative Training Images size  (500, 96, 96, 3)\n",
      "Positive Test Images size  (250, 96, 96, 3)\n",
      "Negative Test Images size  (250, 96, 96, 3)\n"
     ]
    }
   ],
   "source": [
    "def readImgs_intoNpArray(path, image_id_list, image_score_list):\n",
    "    filenames = []\n",
    "    for img_id, img_score in zip(image_id_list, image_score_list):\n",
    "        name = path + img_id + '_' + img_score + '.jpeg'\n",
    "        filenames.append(name)\n",
    "    imgs = np.array([np.array(Image.open(fname)) for fname in filenames])\n",
    "    return imgs\n",
    "\n",
    "\n",
    "path_Tr = dataset + '/train/'                                              \n",
    "pos_img_Tr = readImgs_intoNpArray(path_Tr, posImg_ids_Tr, posImg_scores_Tr)\n",
    "neg_img_Tr = readImgs_intoNpArray(path_Tr, negImg_ids_Tr, negImg_scores_Tr)\n",
    "anchor_img_Tr = readImgs_intoNpArray(path_Tr, posImg_ids_Tr, posImg_scores_Tr)\n",
    "pos_list_Tr = range(len(pos_img_Tr))                                       \n",
    "neg_list_Tr = range(len(neg_img_Tr))                                       \n",
    "                                                                           \n",
    "path_Va = dataset + '/validation/'                                         \n",
    "pos_img_Va = readImgs_intoNpArray(path_Va, posImg_ids_Va, posImg_scores_Va)\n",
    "neg_img_Va = readImgs_intoNpArray(path_Va, negImg_ids_Va, negImg_scores_Va)\n",
    "                                                                           \n",
    "path_Te = dataset + '/test/'                                               \n",
    "pos_img_Te = readImgs_intoNpArray(path_Te, posImg_ids_Te, posImg_scores_Te)\n",
    "neg_img_Te = readImgs_intoNpArray(path_Te, negImg_ids_Te, negImg_scores_Te)\n",
    "\n",
    "print \"Anchor (Positive) Training Images size \", anchor_img_Tr.shape\n",
    "print \"Positive Training Images size \", pos_img_Tr.shape\n",
    "print \"Negative Training Images size \", neg_img_Tr.shape\n",
    "\n",
    "print \"Positive Validation Images size \", pos_img_Va.shape\n",
    "print \"Negative Training Images size \", neg_img_Va.shape\n",
    "\n",
    "print \"Positive Test Images size \", pos_img_Te.shape\n",
    "print \"Negative Test Images size \", neg_img_Te.shape\n"
   ]
  },
  {
   "cell_type": "markdown",
   "metadata": {},
   "source": [
    "\n",
    "S4: Implement the Convolutional Neural Network with TensorFlow and train classifier using SVM.\n",
    "\n",
    "\n",
    "There are lots of implementation details and some most important of them are:\n",
    "\n",
    "- For symmetry breaking, kernel weights are initialized with a small amount of noise.\n",
    "- when training SVM classifier, we use a linear kernel with optimized regularization parameter from stochastic validation.\n",
    "- The training set is used to train both CNN for feature representations and used to train the SVM classifier.  However, when training SVM, we used only half positive examples so that training set has the same amount of examples in both classes.\n",
    "- The batched Adam Stochastic Optimization was used to iteratively reduce the loss function. The batch size is selected from our stochastic validation (you will see soon).\n",
    "- For better train the loss function, we observed that learning rate in Adam Stochastic Optimization should decay as the iteration increases. we select the decay parameters to make learning rate following this trend.\n",
    "<img src=\"https://www.dropbox.com/s/p9l0b4s03r6a4x3/learnrate.jpg?raw=1\", height = 300, width = 300>\n",
    "- The results **are not** printed into stdout. All the important results are saved in *.log file in current directory.\n",
    "- You will note the same network was going through three times in each iteration (the first for loop in RunAndTest function). This is because of the batched anchor images, batched positive images, and batched negative images need to go through the network and get their outputs respectively. The triplet loss is calculated after all of them are obtained.\n",
    "\n",
    "\n"
   ]
  },
  {
   "cell_type": "code",
   "execution_count": 40,
   "metadata": {
    "collapsed": true
   },
   "outputs": [],
   "source": [
    "def weight_variable(shape):                                       \n",
    "  initial = tf.truncated_normal(shape, stddev=0.1)                \n",
    "  return tf.Variable(initial)                                     \n",
    "                                                                  \n",
    "def bias_variable(shape):                                         \n",
    "  initial = tf.constant(0.1, shape=shape)                         \n",
    "  return tf.Variable(initial)                                     \n",
    "                                                                  \n",
    "def max_pool_2x2(x):                                              \n",
    "  return tf.nn.max_pool(x, ksize=[1, 2, 2, 1],                    \n",
    "                        strides=[1, 2, 2, 1], padding='SAME')     \n",
    "def avg_pool_2x2(x):                                              \n",
    "  return tf.nn.avg_pool(x, ksize=[1, 2, 2, 1],                    \n",
    "                        strides=[1, 2, 2, 1], padding='SAME')  \n",
    "\n",
    "def predict_from_features(X_train, y, X_test, SVMReg = 1):                                              \n",
    "                                                                                                        \n",
    "    # C = 1 # SVM regularization parameter                                                              \n",
    "                                                                                                        \n",
    "    lin_svc = svm.SVC(kernel='linear', C=SVMReg, verbose=True, max_iter= 1000000).fit(X_train, y)       \n",
    "                                                                                                        \n",
    "    Te_res = lin_svc.predict(X_test)                                                                    \n",
    "    Tr_res = lin_svc.predict(X_train)                                                                   \n",
    "    return Te_res, Tr_res                                                                               \n",
    "                                                                                                        \n",
    "# featuresRes1: features positive                                                                       \n",
    "# featuresRes2: features negative                                                                       \n",
    "def doSVM(featuresRes_pos_Tr,featuresRes_neg_Tr, featuresRes_pos_Te, featuresRes_neg_Te, SVMReg = 1):   \n",
    "    TrainExamplesNum = len(featuresRes_pos_Tr) / 2;                                                     \n",
    "    posTrainX =featuresRes_pos_Tr[:TrainExamplesNum,:]                                                  \n",
    "    posTrainy = np.ones( len(posTrainX) )                                                               \n",
    "                                                                                                        \n",
    "    posTestX =featuresRes_pos_Te                                                                        \n",
    "    posTesty = np.ones( len(posTestX) )                                                                 \n",
    "                                                                                                                                                                       \n",
    "    negTrainX = featuresRes_neg_Tr                                                                      \n",
    "    negTrainy = -1 * np.ones( len(negTrainX) )                                                          \n",
    "    negTestX = featuresRes_neg_Te                                                                       \n",
    "    negTesty = -1 * np.ones( len(negTestX) )                                                            \n",
    "                                                                                                        \n",
    "    trainX =  np.concatenate((posTrainX, negTrainX), axis=0)                                            \n",
    "    trainX = trainX.astype(float)                                                                       \n",
    "    trainy =  np.concatenate((posTrainy, negTrainy))                                                    \n",
    "                                                                                                        \n",
    "    testX =  np.concatenate((posTestX, negTestX), axis=0)                                               \n",
    "    testX = testX.astype(float)                                                                         \n",
    "    testy =  np.concatenate((posTesty, negTesty))                                                       \n",
    "                                                                                                        \n",
    "    start = time.time()                                                                                 \n",
    "    y_p, y_p_tr = predict_from_features(trainX, trainy, testX, SVMReg)                                  \n",
    "    # np.savetxt(\"predict.csv\", y_p, delimiter=',')                                                     \n",
    "    # y_p_tr = predict_from_features(trainX, trainy, testX, max_iter)                                   \n",
    "    end = time.time()                                                                                   \n",
    "    recallT = 0.0                                                                                       \n",
    "    recallF = 0.0                                                                                       \n",
    "    try:                                                                                                \n",
    "        for i in range(len(testy)):                                                                     \n",
    "            if (y_p[i] == testy[i] and y_p[i]>0):                                                       \n",
    "                recallT += 1                                                                            \n",
    "            if (y_p[i] == testy[i] and y_p[i]<0):                                                       \n",
    "                recallF += 1                                                                            \n",
    "        recall = [recallT/(testy>0).sum(),recallF/(testy<0).sum()]                                      \n",
    "    except:                                                                                             \n",
    "        recall = []                                                                                     \n",
    "                                                                                                        \n",
    "    train_acc = np.mean(y_p_tr == trainy)                                                                                                                                                                    \n",
    "    return np.mean(y_p == testy), end-start, recall, y_p, train_acc                                     \n",
    "\n",
    "def RunAndTest( pos_img, neg_img, anchor_img, pos_list, neg_list, pos_img_Te, ne_img_Te, pos_img_Va, neg_img_Va, margin=1000, keepProb = 0.2, learningRate=1e-4, iter_time=200, batch_size = 16, SVMReg = 1):\n",
    "                                                                                                                                                                                                             \n",
    "    sess = tf.InteractiveSession()                                                                                                                                                                           \n",
    "    width = 96                                                                                                                                                                                               \n",
    "    height = 96                                                                                                                                                                                              \n",
    "    channel = 3                                                                                                                                                                                              \n",
    "                                                                                                                                                                                                             \n",
    "    anchor_input = tf.placeholder(tf.float32, [None, width, height, channel])                                                                                                                                \n",
    "    positive_input = tf.placeholder(tf.float32, [None, width, height, channel])                                                                                                                              \n",
    "    negative_input = tf.placeholder(tf.float32, [None, width, height, channel])                                                                                                                              \n",
    "    global_step = tf.Variable(0, trainable=False)                                                                                                                                                            \n",
    "                                                                                                                                                                                                             \n",
    "                                                                                                                                                                                                             \n",
    "    # Initialize variables                                                                                                                                                                                   \n",
    "    W_conv1 = weight_variable([5, 5, 3, 32])                                                                                                                                                                 \n",
    "    b_conv1 = bias_variable([32])                                                                                                                                                                            \n",
    "                                                                                                                                                                                                             \n",
    "    W_conv2 = weight_variable([5, 5, 32, 64])                                                                                                                                                                \n",
    "    b_conv2 = weight_variable([64])                                                                                                                                                                          \n",
    "                                                                                                                                                                                                             \n",
    "    W_conv3 = weight_variable([3, 3, 64, 128])                                                                                                                                                               \n",
    "    b_conv3 = weight_variable([128])                                                                                                                                                                         \n",
    "                                                                                                                                                                                                             \n",
    "    W_conv4 = weight_variable([3, 3, 128, 256])                                                                                                                                                              \n",
    "    b_conv4 = weight_variable([256])                                                                                                                                                                         \n",
    "                                                                                                                                                                                                             \n",
    "    W_conv5 = weight_variable([3, 3, 256, 256])                                                                                                                                                              \n",
    "    b_conv5 = weight_variable([256])                                                                                                                                                                         \n",
    "                                                                                                                                                                                                             \n",
    "    W_fcl = weight_variable([3 * 3 * 256, 1024])                                                                                                                                                             \n",
    "    b_fcl = weight_variable([1024])                                                                                                                                                                          \n",
    "    fcl = []                                                                                                                                                                                                 \n",
    "    flat_list = []                                                                                                                                                                                           \n",
    "    for train_img in [anchor_input, positive_input, negative_input]:                                                                                                                                         \n",
    "        # CNN1                                                                                                                                                                                               \n",
    "        h_conv1 = tf.nn.relu(tf.nn.conv2d(train_img, W_conv1, [1,1,1,1], 'SAME') + b_conv1)                                                                                                                  \n",
    "        h_pool1 = max_pool_2x2(h_conv1)                                                                                                                                                                      \n",
    "                                                                                                                                                                                                             \n",
    "        # CNN2                                                                                                                                                                                               \n",
    "        h_conv2 = tf.nn.relu(tf.nn.conv2d(h_pool1, W_conv2, [1,1,1,1], 'SAME') + b_conv2)                                                                                                                    \n",
    "        h_pool2 = max_pool_2x2(h_conv2)                                                                                                                                                                      \n",
    "                                                                                                                                                                                                             \n",
    "        # CNN3                                                                                                                                                                                               \n",
    "        h_conv3 = tf.nn.relu(tf.nn.conv2d(h_pool2, W_conv3, [1,1,1,1], 'SAME') + b_conv3)                                                                                                                    \n",
    "        h_pool3 = max_pool_2x2(h_conv3)                                                                                                                                                                      \n",
    "                                                                                                                                                                                                             \n",
    "        # CNN4                                                                                                                                                                                               \n",
    "        h_conv4 = tf.nn.relu(tf.nn.conv2d(h_pool3, W_conv4, [1,1,1,1], 'SAME') + b_conv4)                                                                                                                    \n",
    "        h_pool4 = max_pool_2x2(h_conv4)                                                                                                                                                                      \n",
    "                                                                                                                                                                                                             \n",
    "        # CNN5                                                                                                                                                                                               \n",
    "        h_conv5 = tf.nn.relu(tf.nn.conv2d(h_pool4, W_conv5, [1,1,1,1], 'SAME') + b_conv5)                                                                                                                    \n",
    "        h_pool5 = avg_pool_2x2(h_conv5)                                                                                                                                                                      \n",
    "                                                                                                                                                                                                             \n",
    "        # flatten the CNN                                                                                                                                                                                    \n",
    "        h_pool5_flat = tf.reshape(h_pool5, [-1, 3 * 3 * 256])                                                                                                                                                \n",
    "                                                                                                                                                                                                             \n",
    "        h_fcl = tf.nn.relu(tf.matmul(h_pool5_flat, W_fcl) + b_fcl)                                                                                                                                           \n",
    "        h_fcl = tf.nn.dropout(h_fcl, keep_prob=keepProb)                                                                                                                                                     \n",
    "                                                                                                                                                                                                             \n",
    "        fcl.append(h_fcl)                                                                                                                                                                                    \n",
    "        flat_list.append(h_pool5_flat)                                                                                                                                                                       \n",
    "                                                                                                                                                                                                             \n",
    "    anchor_image = fcl[0]                                                                                                                                                                                    \n",
    "    positive_image = fcl[1]                                                                                                                                                                                  \n",
    "    negative_image = fcl[2]                                                                                                                                                                                  \n",
    "    d_pos = tf.reduce_sum(tf.square(anchor_image - positive_image), 1)                                                                                                                                       \n",
    "    d_neg = tf.reduce_sum(tf.square(anchor_image - negative_image), 1)                                                                                                                                       \n",
    "                                                                                                                                                                                                             \n",
    "    triplet_loss_val = tf.maximum(0., margin + d_pos - d_neg)                                                                                                                                                \n",
    "    triplet_loss = tf.reduce_mean(triplet_loss_val)                                                                                                                                                          \n",
    "                                                                                                                                                                                                             \n",
    "    decay_lr = tf.train.exponential_decay(learningRate, global_step, 100, 0.975, staircase=True)                                                                                                             \n",
    "    train_step = tf.train.AdamOptimizer(decay_lr).minimize(triplet_loss, global_step=global_step)                                                                                                            \n",
    "                                                                                                                                                                                                             \n",
    "    sess.run(tf.global_variables_initializer())                                                                                                                                                              \n",
    "    print \"start AdamOptimizer...\"                                                                                                                                                                                     \n",
    "                                                                                                                                                                                                             \n",
    "    # Iteration begins                                                                                                                                                                                       \n",
    "    for i in range(iter_time):                                                                                                                                                                               \n",
    "        # Select train batch                                                                                                                                                                                 \n",
    "        batch_anchor = anchor_img[random.sample(pos_list, batch_size)]                                                                                                                                       \n",
    "        batch_pos = pos_img[random.sample(pos_list, batch_size)]                                                                                                                                             \n",
    "        batch_neg = neg_img[random.sample(neg_list, batch_size)]                                                                                                                                             \n",
    "                                                                                                                                                                                                             \n",
    "        # Train a step                                                                                                                                                                                       \n",
    "        train_step.run(feed_dict={anchor_input: batch_anchor, positive_input: batch_pos, negative_input: batch_neg})                                                                                         \n",
    "                                                                                                                                                                                                             \n",
    "        lossVal = triplet_loss.eval( feed_dict={anchor_input: batch_anchor, positive_input: batch_pos, negative_input: batch_neg} )                                                                          \n",
    "        print \"lossVal: \", lossVal                                                                                                                                                                           \n",
    "                                                                                                                                                                                                             \n",
    "        if i is not 1 and i % 5000 is 1:                                                                                                                                                                     \n",
    "            print \"iteration at: \" + str(i)                                                                                                                                                                  \n",
    "            print \"Start Evaluate the feature...\"                                                                                                                                                            \n",
    "                                                                                                                                                                                                             \n",
    "            # Train data features                                                                                                                                                                            \n",
    "            # positive Train Features                                                                                                                                                                        \n",
    "            featuresRes_pos_Tr = fcl[1].eval( feed_dict={anchor_input: pos_img, positive_input: pos_img, negative_input: neg_img })                                                                          \n",
    "            # negative Train Features                                                                                                                                                                        \n",
    "            featuresRes_neg_Tr = fcl[2].eval( feed_dict={anchor_input: pos_img, positive_input: pos_img, negative_input: neg_img})                                                                           \n",
    "                                                                                                                                                                                                             \n",
    "            # positive validation features                                                                                                                                                                   \n",
    "            featuresRes_pos_Va = fcl[1].eval( feed_dict={anchor_input: pos_img_Va, positive_input: pos_img_Va, negative_input: neg_img_Va} )                                                                 \n",
    "            # negative validation features                                                                                                                                                                   \n",
    "            featuresRes_neg_Va = fcl[2].eval( feed_dict={anchor_input: pos_img_Va, positive_input: pos_img_Va, negative_input: neg_img_Va})                                                                  \n",
    "                                                                                                                                                                                                             \n",
    "            print \"start SVM...\"                                                                                                                                                                             \n",
    "            Testacc, SVMtime, Recall, y_p, train_acc = doSVM(featuresRes_pos_Tr, featuresRes_neg_Tr, featuresRes_pos_Va, featuresRes_neg_Va, SVMReg)                                                         \n",
    "            logging.info(\"At iteration: \" + str(i) + \" loss value: \" + str(lossVal) + \" recall: \" + str(Recall) + \" Train Accuracy: \" + str(train_acc) + \", Test Accuracy: \" + str(Testacc) )                "
   ]
  },
  {
   "cell_type": "markdown",
   "metadata": {},
   "source": [
    "The skeleton code was referred from an MNIST digit classification example from tensorflow website: https://www.tensorflow.org/versions/r0.10/tutorials/mnist/pros/index.html. \n",
    "\n",
    "#### Run the stochastic validation to select good hyperparameters and test the algorithm.\n",
    "\n",
    "One of greatest challenges in deep networks are always selecting parameters. We did not use grid search to find the best parameters since there are too many parameters to tune (in our case, there are 5 parameters and 576 combinations), and each of them takes hours to train. Alternatively, We used the stochastic method to tune the parameters and record the parameters and results in the .log file."
   ]
  },
  {
   "cell_type": "code",
   "execution_count": null,
   "metadata": {
    "collapsed": true
   },
   "outputs": [],
   "source": [
    "margins  = [1, 10, 100, 1000]\n",
    "batchSizes = [16 ,32, 64]\n",
    "dropOutProbs = [0.01, 0.2, 0.3, 0.5]\n",
    "learnRates = [5e-4, 2e-4, 1e-4, 5e-5]\n",
    "SVMRegularizations = [0.1,1,10]\n",
    "iterationTime = 10001\n",
    "for i in range(100):\n",
    "    margin = random.choice(margins)\n",
    "    batch_size = random.choice(batchSizes)\n",
    "    dropOutProb = random.choice(dropOutProbs)\n",
    "    learnRate = random.choice(learnRates)\n",
    "    SVMreg = random.choice(SVMRegularizations)\n",
    "    logging.info( \"time: \" + str(i) + \"margin: \" + str(margin) + \" batchSize: \" + str(batch_size) + \" dropOut: \" + str(dropOutProb) + \" learnRate: \" + str(learnRate) + \" SVM REG: \"  + str(SVMreg) )\n",
    "    testErr = RunAndTest(pos_img_Tr, neg_img_Tr, anchor_img_Tr, pos_list_Tr, neg_list_Tr, pos_img_Te, neg_img_Te, pos_img_Va, neg_img_Va, margin=margin, keepProb=dropOutProb, learningRate=learnRate, iter_time= iterationTime, batch_size = batch_size, SVMReg = SVMreg)"
   ]
  },
  {
   "cell_type": "markdown",
   "metadata": {},
   "source": [
    "In our stochastic validation, we repeatedly to randomly select one parameter combination from hyperplane and record the parameters resulting in best validation accuracy. We have opened 1 x c4.8xlarge instance (36 cores) and 3 x c4.4xlarge (16 cores) in AWS and test 100 parameter combinations in total, this takes about 18 hours to finish. We found that the best parameters are:\n",
    "\n",
    "margin: 10 , batchSize: 16, dropOut: 0.2, learnRate: 5e-05, SVM REG: 0.1\n",
    "\n",
    "We used the selected parameters on the test dataset and achieved 66.8% test accuracy, with True positive 69.6% and True negative 64%."
   ]
  },
  {
   "cell_type": "markdown",
   "metadata": {},
   "source": [
    "#### CNN with Triplet loss function result analysis\n",
    "\n",
    "The result from CNN network can achieve 66.8% accuracy, it demonstrates the effectiveness of the feature selection by using triplet loss to train the convolutional network, but it is still not as good as expected, through we have paid lots of efforts on tuning the parameters and optimizing the network structure. We have the summaries that the reasons might be:\n",
    "\n",
    "- Structure of network: \n",
    "The convolution network is not deep and wide enough to extract best features. In VGG16, there are 13 convolutional  layers and 3 fully connected layers. Therefore, VGG is able to extract very good features with its strong network and tuned parameters. With the network only have 5 convolutional layers and 1 fully connected layer, the best features are not easily extracted.\n",
    "\n",
    "- Parameters tuning: \n",
    "Selecting the right parameters actually takes lots of more time and resources. We do have the implemented the stochastic validation to find the good parameters, but it is not enough. The choice set of each parameter are come from our experiments and experience, in reality we need to try much more different parameters. Also, we need to do more runs and validations to find the best parametres.\n",
    "\n",
    "- Network Optimization: \n",
    "There are also lots of things to tune in the network. e.g. In convolutional layers, the size of kernel, the pooling methods, the activation function, the number of channels etc. In whole network, the number of convolutional or fully connected layers, the number of neurons in fully connected layers, etc.\n",
    "\n",
    "To achieve the best performance there are lots of work to do, unfortunately, at this time we are not able to do all of them due to time and resources limit. We implemented the simplified network to indicates the effectiveness of this approach, and we do think the capability of this approaches once it got well trained and tuned.\n",
    "\n"
   ]
  },
  {
   "cell_type": "markdown",
   "metadata": {},
   "source": [
    "##  Feature Extraction using VGG16 pretrained network\n",
    "\n",
    "The limitation of training the CNN from scratch makes us think of using pre-trained models for some popular pre-defined nets. We choose VGG16 to get the pre-trained model since it has been well defined and trained with very deep network and it generalizes well to other datasets. The VGG pre-trained weights are available at its <a href = \"https://drive.google.com/file/d/0Bz7KyqmuGsilT0J5dmRCM0ROVHc/view\">source website</a>. We have used the pre-trained model to extract features for images. Note We use the output from the flatten layer as extracted features for images.\n",
    "\n",
    "The codes are referred from <a href = \"https://gist.github.com/baraldilorenzo/07d7802847aaad0a35d3\"> VGG16 github page </a> and some changed has been made to fit for our original image size and desired feature output. \n",
    "\n"
   ]
  },
  {
   "cell_type": "code",
   "execution_count": 9,
   "metadata": {
    "collapsed": false
   },
   "outputs": [],
   "source": [
    "import keras\n",
    "from keras.models import Sequential\n",
    "from keras.layers.core import Flatten, Dense, Dropout\n",
    "from keras.layers.convolutional import Convolution2D, MaxPooling2D, ZeroPadding2D\n",
    "from keras.optimizers import SGD\n",
    "\n",
    "def VGG_16(weights_path=None):\n",
    "    model = Sequential()\n",
    "    model.add(ZeroPadding2D((1,1),input_shape=(3,224,224)))\n",
    "    model.add(Convolution2D(64, 3, 3, activation='relu'))\n",
    "    model.add(ZeroPadding2D((1,1)))\n",
    "    model.add(Convolution2D(64, 3, 3, activation='relu'))\n",
    "    model.add(MaxPooling2D((2,2), strides=(2,2)))\n",
    "\n",
    "    model.add(ZeroPadding2D((1,1)))\n",
    "    model.add(Convolution2D(128, 3, 3, activation='relu'))\n",
    "    model.add(ZeroPadding2D((1,1)))\n",
    "    model.add(Convolution2D(128, 3, 3, activation='relu'))\n",
    "    model.add(MaxPooling2D((2,2), strides=(2,2)))\n",
    "\n",
    "    model.add(ZeroPadding2D((1,1)))\n",
    "    model.add(Convolution2D(256, 3, 3, activation='relu'))\n",
    "    model.add(ZeroPadding2D((1,1)))\n",
    "    model.add(Convolution2D(256, 3, 3, activation='relu'))\n",
    "    model.add(ZeroPadding2D((1,1)))\n",
    "    model.add(Convolution2D(256, 3, 3, activation='relu'))\n",
    "    model.add(MaxPooling2D((2,2), strides=(2,2)))\n",
    "\n",
    "    model.add(ZeroPadding2D((1,1)))\n",
    "    model.add(Convolution2D(512, 3, 3, activation='relu'))\n",
    "    model.add(ZeroPadding2D((1,1)))\n",
    "    model.add(Convolution2D(512, 3, 3, activation='relu'))\n",
    "    model.add(ZeroPadding2D((1,1)))\n",
    "    model.add(Convolution2D(512, 3, 3, activation='relu'))\n",
    "    model.add(MaxPooling2D((2,2), strides=(2,2)))\n",
    "\n",
    "    model.add(ZeroPadding2D((1,1)))\n",
    "    model.add(Convolution2D(512, 3, 3, activation='relu'))\n",
    "    model.add(ZeroPadding2D((1,1)))\n",
    "    model.add(Convolution2D(512, 3, 3, activation='relu'))\n",
    "    model.add(ZeroPadding2D((1,1)))\n",
    "    model.add(Convolution2D(512, 3, 3, activation='relu'))\n",
    "    model.add(MaxPooling2D((2,2), strides=(2,2)))\n",
    "\n",
    "    model.add(Flatten())\n",
    "    model.add(Dense(4096, activation='relu'))\n",
    "    model.add(Dropout(0.5))\n",
    "    model.add(Dense(4096, activation='relu'))\n",
    "    model.add(Dropout(0.5))\n",
    "    model.add(Dense(1000, activation='softmax'))\n",
    "\n",
    "    if weights_path:\n",
    "        model.load_weights(weights_path)\n",
    "    \n",
    "    new_model = Sequential()\n",
    "    new_model.add(ZeroPadding2D((1,1),input_shape=(3,96,96)))\n",
    "    new_model.add(Convolution2D(64, 3, 3, activation='relu'))\n",
    "    new_model.add(ZeroPadding2D((1,1)))\n",
    "    new_model.add(Convolution2D(64, 3, 3, activation='relu'))\n",
    "    new_model.add(MaxPooling2D((2,2), strides=(2,2)))\n",
    "\n",
    "    new_model.add(ZeroPadding2D((1,1)))\n",
    "    new_model.add(Convolution2D(128, 3, 3, activation='relu'))\n",
    "    new_model.add(ZeroPadding2D((1,1)))\n",
    "    new_model.add(Convolution2D(128, 3, 3, activation='relu'))\n",
    "    new_model.add(MaxPooling2D((2,2), strides=(2,2)))\n",
    "\n",
    "    new_model.add(ZeroPadding2D((1,1)))\n",
    "    new_model.add(Convolution2D(256, 3, 3, activation='relu'))\n",
    "    new_model.add(ZeroPadding2D((1,1)))\n",
    "    new_model.add(Convolution2D(256, 3, 3, activation='relu'))\n",
    "    new_model.add(ZeroPadding2D((1,1)))\n",
    "    new_model.add(Convolution2D(256, 3, 3, activation='relu'))\n",
    "    new_model.add(MaxPooling2D((2,2), strides=(2,2)))\n",
    "\n",
    "    new_model.add(ZeroPadding2D((1,1)))\n",
    "    new_model.add(Convolution2D(512, 3, 3, activation='relu'))\n",
    "    new_model.add(ZeroPadding2D((1,1)))\n",
    "    new_model.add(Convolution2D(512, 3, 3, activation='relu'))\n",
    "    new_model.add(ZeroPadding2D((1,1)))\n",
    "    new_model.add(Convolution2D(512, 3, 3, activation='relu'))\n",
    "    new_model.add(MaxPooling2D((2,2), strides=(2,2)))\n",
    "\n",
    "    new_model.add(ZeroPadding2D((1,1)))\n",
    "    new_model.add(Convolution2D(512, 3, 3, activation='relu'))\n",
    "    new_model.add(ZeroPadding2D((1,1)))\n",
    "    new_model.add(Convolution2D(512, 3, 3, activation='relu'))\n",
    "    new_model.add(ZeroPadding2D((1,1)))\n",
    "    new_model.add(Convolution2D(512, 3, 3, activation='relu'))\n",
    "    new_model.add(MaxPooling2D((2,2), strides=(2,2)))\n",
    "\n",
    "    new_model.add(Flatten())\n",
    "    \n",
    "    weights = model.get_weights()\n",
    "    new_model.set_weights(weights)\n",
    "    \n",
    "    return new_model\n",
    "    \n",
    "trained_vgg = VGG_16(\"vgg16_weights.h5\")"
   ]
  },
  {
   "cell_type": "markdown",
   "metadata": {},
   "source": [
    "The VGG codes are referred from <a href=\"https://gist.github.com/baraldilorenzo/07d7802847aaad0a35d3\"> VGG Keras Github page </a>. \n",
    "After load the pre-trained weights into VGG16 network, we can now transform original images (3x 96 x 96) into feature vectors (1 x 4608) from flatten layer."
   ]
  },
  {
   "cell_type": "code",
   "execution_count": 35,
   "metadata": {
    "collapsed": false
   },
   "outputs": [],
   "source": [
    "def get_Vgg16features(fnames, vgg):\n",
    "    result = []\n",
    "    for fname in fnames:\n",
    "        im = Image.open(fname)\n",
    "        im = crop_and_scale_image(im)\n",
    "        if im.mode is not 'RGB':\n",
    "            im = im.convert('RGB')\n",
    "        npim = np.asarray(im)\n",
    "        vgg_input = np.rollaxis(npim, 2)\n",
    "        result.append(vgg_input)\n",
    "        \n",
    "    result_np = np.asarray(result)\n",
    "    print result_np.shape\n",
    "    return vgg.predict(result_np), fnames_to_labels(fnames)\n",
    "\n",
    "X_tr, y_tr = get_Vgg16features(fnames_tr, trained_vgg)\n",
    "X_va, y_va = get_Vgg16features(fnames_va, trained_vgg)\n",
    "X_te, y_te = get_Vgg16features(fnames_te, trained_vgg)"
   ]
  },
  {
   "cell_type": "markdown",
   "metadata": {},
   "source": [
    "As the dimension of vgg features is 4608, which is larger than the size of dataset, it is easy to overfit when we train the models since we only have ~2800 training examples. Therefore, we applied PCA to extract principle components as new features but has lower dimension, and train the SVM classifier with new features.To find the best parameters, we did validations and use the optimized parameters to work on testset."
   ]
  },
  {
   "cell_type": "code",
   "execution_count": null,
   "metadata": {
    "collapsed": false
   },
   "outputs": [],
   "source": [
    "from sklearn.decomposition import PCA\n",
    "best = 0\n",
    "best_C = 0\n",
    "best_gamma = 0\n",
    "best_pca_n = 0\n",
    "\n",
    "# validation\n",
    "for pca_n in [1024,2048,3072,4096]:\n",
    "    pca = PCA(n_components=pca_n)\n",
    "    X_tr_pca = pca.fit_transform(X_tr)\n",
    "    X_va_pca = pca.transform(X_va)\n",
    "    for C in C_range:\n",
    "        for gamma in gamma_range:\n",
    "            svc = svm_train(X_tr_pca, y_tr, C, gamma)\n",
    "            y_p = svm_predict(svc, X_va_pca)\n",
    "            accuracy = np.mean(y_p==y_va)\n",
    "            if accuracy > best:\n",
    "                best = accuracy\n",
    "                best_C = C\n",
    "                best_gamma = gamma\n",
    "                best_pca_n = pca_n\n",
    "            recallT = 0.0\n",
    "            recallF = 0.0\n",
    "            for i in range(len(y_va)):\n",
    "                if (y_p[i]==y_va[i] and y_p[i]>0):\n",
    "                    recallT += 1\n",
    "                if (y_p[i]==y_va[i] and y_p[i]<0):\n",
    "                    recallF += 1\n",
    "            print \"Validation PCA_N: {} C: {} gamma:{} accuracy: {} Recall: {},{}\".format(pca_n,C,gamma,accuracy,recallT/(y_va>0).sum(),recallF/(y_va<=0).sum())"
   ]
  },
  {
   "cell_type": "markdown",
   "metadata": {},
   "source": [
    "We got the optimized parameters: SVM regularization parameter C = 1, RBF kernel radius gamma = 1e-6, and use PCA to extract 3072 principle components."
   ]
  },
  {
   "cell_type": "code",
   "execution_count": null,
   "metadata": {
    "collapsed": false
   },
   "outputs": [],
   "source": [
    "# test\n",
    "pca_n = 3072\n",
    "C = 1\n",
    "gamma = 1e-6\n",
    "pca = PCA(n_components=pca_n)\n",
    "X_tr_pca = pca.fit_transform(X_tr)\n",
    "X_te_pca = pca.transform(X_te)\n",
    "svc = svm_train(X_tr_pca, y_tr, C, gamma)\n",
    "y_pt = svm_predict(svc, X_te_pca)\n",
    "print \"Test accuracy: {}\".format(np.mean(y_pt==y_te))\n",
    "recallT = 0.0\n",
    "recallF = 0.0\n",
    "for i in range(len(y_te)):\n",
    "    if (y_pt[i]==y_te[i] and y_pt[i]>0):\n",
    "        recallT += 1\n",
    "    if (y_pt[i]==y_te[i] and y_pt[i]<0):\n",
    "        recallF += 1\n",
    "print 'Recall: ',recallT/(y_te>0).sum(),recallF/(y_te<=0).sum()"
   ]
  },
  {
   "cell_type": "markdown",
   "metadata": {},
   "source": [
    "The test accuracy is: 84% with True positive 83.2% and True negative 84.8%."
   ]
  },
  {
   "cell_type": "markdown",
   "metadata": {},
   "source": [
    "#### VGG newtwork result analysis\n",
    "\n",
    "Since VGG has deep network and generalize well to other datasets[3]. The VGG16 pre-trained model did improve the model accuracy to 84%. Because VGG network is not explicitly learning the aesthetic features, There are still some images are misclassified. An improvement can be done is that use pre-trained weights as initial values and further train the network by optimizing the triplet loss, therefore aesthetic features can be better extracted. Also, the aesthetic classification is not an easy problem. We can see from the False positive and False negative samples that some misclassified images are even hard to be classified correctly by people:\n",
    "\n",
    "<img src=\"https://www.dropbox.com/s/pb826ivkhhzunte/false.png?raw=1\">"
   ]
  },
  {
   "cell_type": "markdown",
   "metadata": {},
   "source": [
    "## Summary \n",
    "\n",
    "In this project, we have come up different approaches and implemented all pipelines to answer the very challenge problem: evaluate the aesthetic values for photos. 36,692 original photos with scores were crawled from photo.net and   ~9,000 of them with very high or very low scores were selected to form training, validation and test sets. We experimented with different models to train the machine to be an 'aesthetic evaluator'. As the baseline, color histogram was built to extract features for SVM classifier and achieve 65.4% test accuracy. To improve the accuracy, we used the defined triplet loss to train a simplified Convolutional network and learned the aesthetic features. The accuracy of SVM classifier trained on these features has achieved 66.8% test accuracy, not a significant improvement because resources limitations but has great improvement space. Finally, we have used the pre-trained very deep VGG16 network to obtain features and learned the SVM classifier, the test accuracy of 84% has been achieved.\n",
    "\n",
    "### Limitations and Further Consideration\n",
    "\n",
    "We are addressing a very challenging problem. Accurately evaluate the aesthetic value of an image is very difficult, even with the human. Some photos are too abstract to be recognized and appreciated. Also, the aesthetic value is a bit of subjective, although people has common sense about beauty, but possibilities exist that different people have different perspectives and experiences. Therefore, the goal of this project does not achieve a perfect classifier, but try to give people a rough value of the photos for reference. Also, we would like to try to approach this challenging problem and reinforce our understandings on data processing and deep learning fields. \n",
    "\n",
    "There are lots of improvements can be considered. We have witnessed a very deep network like VGG is powerfully working on images, and the triplet loss function is very good 'learning criteria'. Hence, I believe an algorithm combines them will yield to better accuracy. We can either use pre-train weights as initial variables and further train the VGGNet by triplet loss, or a CNN has a similar structure as VGG16Net can be built and trained from scratch. After appropriate parameter tuning and apply some tricks we think the accuracy could be significantly improved. Also, there is improvement can be done in the dataset. We have only used ~9,000 high contrast images for training the network and this is typically not enough for a deep network. Getting more training images with high contrast will improve the accuracy.\n",
    "\n",
    "### Reference\n",
    "1. Understanding Aesthetics with Deep Learning. NVIDIA Website, Available:  https://devblogs.nvidia.com/parallelforall/understanding-aesthetics-deep-learning/\n",
    "2. Deep MNIST for Experts on tensorflow. Available: https://www.tensorflow.org/versions/r0.11/tutorials/mnist/pros/index.html\n",
    "3. VGG16 Github Keras. Available: https://gist.github.com/baraldilorenzo/07d7802847aaad0a35d3\n",
    "4. Data source we used to crawl: http://photo.net/\n",
    "5. Simultaneous Feature Learning and Hash Coding with Deep Neural Networks, Hanjiang Lai† , Yan Pan, Ye Liu , and Shuicheng Yan, CVPR 2015.\n",
    "6. VGG homepage, Available: http://www.robots.ox.ac.uk/~vgg/research/very_deep/\n",
    "7. Part of work are referred from CMU practical data science homework, Available: http://www.datasciencecourse.org/"
   ]
  }
 ],
 "metadata": {
  "kernelspec": {
   "display_name": "Python 2",
   "language": "python",
   "name": "python2"
  },
  "language_info": {
   "codemirror_mode": {
    "name": "ipython",
    "version": 2
   },
   "file_extension": ".py",
   "mimetype": "text/x-python",
   "name": "python",
   "nbconvert_exporter": "python",
   "pygments_lexer": "ipython2",
   "version": "2.7.11"
  }
 },
 "nbformat": 4,
 "nbformat_minor": 0
}
