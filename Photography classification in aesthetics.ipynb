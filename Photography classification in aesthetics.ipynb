{
 "cells": [
  {
   "cell_type": "markdown",
   "metadata": {
    "collapsed": true
   },
   "source": [
    "## Introduction\n",
    "\n",
    "Photography has long been regarded as a form of art. Assessing the aesthetic value of a picture\n",
    "is therefore entirely subjective and personal. Nowadays, people capture millions of photos every\n",
    "day, and either hopes to share the best photo on social networks or endeavor to create a piece of\n",
    "art. Flushing photo streams make selecting the best photo from gallery has become more and more\n",
    "time-consuming and arduous. \n",
    "\n",
    "To have a brief idea about aesthetics, There are examples pictures of architectural facades. Although each image features the same basic content, the difference in visual charm and coherence in the left two pictures versus the right is apparent.\n",
    "\n",
    "<img src=\"https://devblogs.nvidia.com/parallelforall/wp-content/uploads/2016/02/facades.jpg\">\n",
    "\n",
    "What separates them from mediocre images which have low aesthetic value? We would attempt to answer this question by establishing the aesthetic criteria from machine view. We would build aesthetic classfier based on supervised learning. In this project, we will have two approaches to generate image features.\n",
    "\n",
    "1. Traditional approach: Histogram of Oriented Gradient (HoG) feature selection. In this approach, we will select HoG features from images and then apply SVM to train the classifier. The accuracy is not expected to be very good since the easthetics classifying is subjective and it typically depends on the overall feeling of the picture. Therefore, this approach will work as a base line and leave lots of improvement space.\n",
    "\n",
    "2. Deep learning Approach: We may capture these abstract features by applying convolutional neural network hashing (CNNH), which learnes a hashed representation by aesthetic values of image. The idea is that aesthetic distance between two beautiful photos are closer than the one between a pleasing picture and a normal one, so we can build a similarity hashing network and maps the image to a vector features.\n",
    "\n",
    "Since aesthetics is a subjective concept, understanding how machine evaluates the artful value of a picture could provide us some insight into how people define and feel beauty."
   ]
  },
  {
   "cell_type": "markdown",
   "metadata": {},
   "source": [
    "## Tutorial content\n",
    "In this tutorial, we will show how to generate image features in different ways, specifically using Histogram of Oriented Gradient (HOG) and Convolutional Neural Networks (CNN) model."
   ]
  },
  {
   "cell_type": "markdown",
   "metadata": {},
   "source": [
    "## Installing the libraries\n",
    "\n",
    "Before getting started, you'll need to install the various libraries that we will use. You can install opencv using brew:"
   ]
  },
  {
   "cell_type": "raw",
   "metadata": {},
   "source": [
    "$ brew install opencv"
   ]
  },
  {
   "cell_type": "code",
   "execution_count": 14,
   "metadata": {
    "collapsed": true
   },
   "outputs": [],
   "source": [
    "import mimetypes, httplib, time, sys, os\n",
    "import unittest\n",
    "import urllib\n",
    "import cv2\n",
    "import os"
   ]
  },
  {
   "cell_type": "markdown",
   "metadata": {},
   "source": [
    "## Loading data and plotting\n",
    "\n",
    "One of the key factors contributing to our understanding of aesthetics of photographs is the dataset\n",
    "selection. The image quality and the rating system should be able to reflect the aesthetic value of\n",
    "a photo based on collective expertise.\n",
    "\n",
    "According to the criteria above, we collected by ourselves from a famous premier photography community, 500px, which has inspiring photographs powered by creative experts around the world. We crawled images through API provided by 500px and classify them as good or mediocre pictures based on their rating scores.\n",
    "\n",
    "https://github.com/akirahrkw/python-500px"
   ]
  },
  {
   "cell_type": "raw",
   "metadata": {},
   "source": [
    "$ pip install python-500px "
   ]
  },
  {
   "cell_type": "code",
   "execution_count": 2,
   "metadata": {
    "collapsed": true
   },
   "outputs": [],
   "source": [
    "# get authorised api key\n",
    "from fivehundredpx.client import FiveHundredPXAPI\n",
    "from fivehundredpx.auth   import *\n",
    "\n",
    "CONSUMER_KEY = 'Vpce2Qe47Bcrs5y0eCUzKhS5wK1za5gQvxxoYNEK'\n",
    "CONSUMER_SECRET = 'itGSs8YXQARfVsSKvFDfGqAhl9dirhuPN9fVHKXB'\n",
    "\n",
    "headers = {}\n",
    "handler = OAuthHandler(CONSUMER_KEY, CONSUMER_SECRET)\n",
    "handler.apply_auth('https://api.500px.com/v1/oauth/request_token', 'POST', headers, { 'oauth_callback' : 'http://localhost' })\n",
    "oauth_token = handler.get_request_token()\n",
    "handler.set_access_token(oauth_token.key, oauth_token.secret)\n",
    "api = FiveHundredPXAPI(handler)"
   ]
  },
  {
   "cell_type": "markdown",
   "metadata": {},
   "source": [
    "Download all images by 500px api, this step might cost more than 2 hours."
   ]
  },
  {
   "cell_type": "code",
   "execution_count": 3,
   "metadata": {
    "collapsed": false
   },
   "outputs": [],
   "source": [
    "#download all the images\n",
    "json = api.photos(require_auth=True, sort='rating',sort_direction='asc',rpp=100,image_size=[2,3],page=1)\n",
    "print json['total_items'],json['total_pages']\n",
    "total = json['total_pages']\n",
    "for i in range(total):\n",
    "    json = api.photos(require_auth=True, sort='rating',sort_direction='asc',rpp=100,image_size=[2,3],page=i)\n",
    "    for photo in json['photos']:\n",
    "        urllib.urlretrieve(photo['image_url'][0], \"data/\"+str(photo['id'])+\"_\"+str(str(photo['rating']))+\".jpeg\")"
   ]
  },
  {
   "cell_type": "code",
   "execution_count": 9,
   "metadata": {
    "collapsed": false,
    "scrolled": true
   },
   "outputs": [
    {
     "data": {
      "image/png": "[encoded data removed]",
      "text/plain": [
       "<matplotlib.figure.Figure at 0x110985d90>"
      ]
     },
     "metadata": {},
     "output_type": "display_data"
    }
   ],
   "source": [
    "#distribution visualization\n",
    "%matplotlib inline\n",
    "import numpy as np\n",
    "import matplotlib.pyplot as plt\n",
    "\n",
    "files = os.listdir('data/')\n",
    "rate = {}\n",
    "for file in files:\n",
    "    if not file.endswith('.jpeg'):\n",
    "        continue\n",
    "    score = round(float(file.split('_')[1].split('.jpeg')[0]))\n",
    "    if score not in rate:\n",
    "        rate[score] = 0\n",
    "    rate[score] += 1\n",
    "    \n",
    "sd = sorted(rate.items())\n",
    "X = []\n",
    "Y = []\n",
    "for a,b in sd:\n",
    "    X.append(a)\n",
    "    Y.append(b)\n",
    "plt.xlabel('Score')\n",
    "plt.ylabel('Count')\n",
    "plt.title('Score distribution of imgs by 500px api')\n",
    "plt.plot(X,Y)\n",
    "plt.savefig('ds.png')\n",
    "plt.show()"
   ]
  },
  {
   "cell_type": "markdown",
   "metadata": {},
   "source": [
    "This is a well-rated dataset containing about 74K images from 500px among which 16K pictures with rating scores higher than 90 and 19K pictures whose scores are between 70 and 82."
   ]
  },
  {
   "cell_type": "markdown",
   "metadata": {},
   "source": [
    "## Histogram of Oriented Gradient (HOG) \n",
    "\n",
    "Since there are too many features for a raw image, i.e. for a 512 * 512 grayscale image, there will be 262144 features. Too many features increase the model complexity, takes computaion resource and trend to overfitting. Thus, the first step processing the image is feature extraction.\n",
    "\n",
    "We choose HoG ( Histogram of gradients ) to extract the features. Specifically, we choose every 8 * 8 pixels in a winodow as a cell, calculate the number of gradients in each orientation within this cell. Eventually we will obtain a low-demensional vector has all features in the raw image.\n",
    "\n",
    "<img src=\"http://scikit-image.org/docs/dev/_images/plot_hog_1.png\">"
   ]
  },
  {
   "cell_type": "code",
   "execution_count": 10,
   "metadata": {
    "collapsed": false
   },
   "outputs": [],
   "source": [
    "from skimage.feature import hog\n",
    "from skimage import data, color, exposure\n",
    "\n",
    "def reshapeVector(filename):\n",
    "    image = cv2.imread(filename)\n",
    "    a = np.array(image)\n",
    "    return a.ravel()\n",
    "\n",
    "def computeHOG(filename):\n",
    "    image = cv2.imread(filename,0)\n",
    "    fd, hog_image = hog(image, orientations=8, pixels_per_cell=(8, 8),\n",
    "                        cells_per_block=(1, 1), visualise=True)\n",
    "    return fd\n",
    "\n",
    "files = os.listdir('data/')\n",
    "\n",
    "X_all = []\n",
    "y_all = []\n",
    "\n",
    "i=0\n",
    "for file in files:\n",
    "    i += 1\n",
    "    if i%10 != 0:\n",
    "        continue\n",
    "    if not file.endswith('.jpeg'):\n",
    "        continue\n",
    "    sample = 'data/'+file\n",
    "    score = round(float(file.split('_')[1].split('.jpeg')[0]))\n",
    "    if score > 82 and score < 90:\n",
    "        continue\n",
    "    X_all.append(computeHOG(sample))\n",
    "    if score >= 90:\n",
    "        y_all.append(1)\n",
    "    else:\n",
    "        y_all.append(-1)"
   ]
  },
  {
   "cell_type": "markdown",
   "metadata": {},
   "source": [
    "## SVM classifier\n",
    "\n",
    "The final step in aesthetics pictures classification is to feed the descriptors into some recognition system based on supervised learning. The support vector machine (SVM) classifier is a binary classifier which looks for an optimal hyperplane as a decision function. Once trained on images containing known rating information, the SVM classifier can make decisions based on the HOG descriptors.\n",
    "\n",
    "We randomly split the original data into 6 parts, use 5/6 data to train SVM model and 1/6 for test. After repeating k times to get different data fot SVM model, we calculate the average test error as final performance."
   ]
  },
  {
   "cell_type": "code",
   "execution_count": 15,
   "metadata": {
    "collapsed": false
   },
   "outputs": [
    {
     "name": "stdout",
     "output_type": "stream",
     "text": [
      "3362\n"
     ]
    },
    {
     "name": "stderr",
     "output_type": "stream",
     "text": [
      "/anaconda/lib/python2.7/site-packages/ipykernel/__main__.py:23: VisibleDeprecationWarning: using a non-integer number instead of an integer will result in an error in the future\n",
      "/anaconda/lib/python2.7/site-packages/ipykernel/__main__.py:24: VisibleDeprecationWarning: using a non-integer number instead of an integer will result in an error in the future\n"
     ]
    },
    {
     "name": "stdout",
     "output_type": "stream",
     "text": [
      "error using linear kernel: \n",
      "0.501785714286\n",
      "error using rbf kernel: \n",
      "0.467857142857\n",
      "error using poly kernel: \n",
      "0.467857142857\n"
     ]
    }
   ],
   "source": [
    "from sklearn import svm\n",
    "import math\n",
    "\n",
    "# filter outlier\n",
    "X2 = []\n",
    "y2 = []\n",
    "for i in range(len(X_all)):\n",
    "    if len(X_all[i]) > 1:\n",
    "        X2.append(X_all[i])\n",
    "        y2.append(y_all[i])\n",
    "\n",
    "X_list = X2\n",
    "y_list = y2\n",
    "\n",
    "data_sample = len(X_list)\n",
    "print data_sample\n",
    "k = 3\n",
    "lin_err = 0\n",
    "rbf_err = 0\n",
    "poly_err = 0\n",
    "for _ in xrange(k):\n",
    "    perm = np.random.permutation(data_sample)\n",
    "    perm_train = perm[ round(1.0 / 6.0 * data_sample) :]\n",
    "    perm_test = perm[: round(1.0/ 6.0 * data_sample)]\n",
    "    x_train = [X_list[i] for i in perm_train]\n",
    "    x_test = [X_list[i] for i in perm_test]\n",
    "    y_train = [y_list[i] for i in perm_train]\n",
    "    y_test = [y_list[i] for i in perm_test]\n",
    "\n",
    "    C = 1.0  # SVM regularization parameter\n",
    "    lin_svc = svm.SVC(kernel='linear', C=C).fit(x_train, y_train)\n",
    "    rbf_svc = svm.SVC(kernel='rbf', gamma=0.7, C=C).fit(x_train, y_train)\n",
    "    poly_svc = svm.SVC(kernel='poly', degree=3, C=C).fit(x_train, y_train)\n",
    "\n",
    "    err_num = np.count_nonzero( lin_svc.predict(x_test) * np.array(y_test) == -1) \n",
    "    lin_err += (err_num * 1.0 / len(y_test) )\n",
    "\n",
    "    err_num = np.count_nonzero( rbf_svc.predict(x_test) * np.array(y_test) == -1) \n",
    "    rbf_err += (err_num * 1.0 / len(y_test) )\n",
    "    \n",
    "    err_num = np.count_nonzero( poly_svc.predict(x_test) * np.array(y_test) == -1) \n",
    "    poly_err += (err_num * 1.0 / len(y_test) )\n",
    "    \n",
    "    \n",
    "print \"error using linear kernel: \"\n",
    "print lin_err / k\n",
    "print \"error using rbf kernel: \"\n",
    "print rbf_err / k\n",
    "print \"error using poly kernel: \"\n",
    "print poly_err / k"
   ]
  },
  {
   "cell_type": "markdown",
   "metadata": {},
   "source": [
    "## HOG result analysis\n",
    "\n",
    "The svm test result are shown above, where we try different kernel functions but they are not work well. While HoG works excellently in most feature extraction problems, it is noticable that HoG not works well for this problem. HoG features is not meanfull for esathetics classifying. For asethetics evaluation, the feature selection is very hard to obtain through traditional computer vision techniques. \n",
    "\n",
    "In next part, we will use a different approach to solve this problem with much high accuracy by builing the deep and intelligent network."
   ]
  }
 ],
 "metadata": {
  "kernelspec": {
   "display_name": "Python 2",
   "language": "python",
   "name": "python2"
  },
  "language_info": {
   "codemirror_mode": {
    "name": "ipython",
    "version": 2
   },
   "file_extension": ".py",
   "mimetype": "text/x-python",
   "name": "python",
   "nbconvert_exporter": "python",
   "pygments_lexer": "ipython2",
   "version": "2.7.11"
  }
 },
 "nbformat": 4,
 "nbformat_minor": 0
}
